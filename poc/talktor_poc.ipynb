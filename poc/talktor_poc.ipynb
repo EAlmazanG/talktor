{
 "cells": [
  {
   "cell_type": "code",
   "execution_count": 14,
   "id": "cb9222e9",
   "metadata": {},
   "outputs": [],
   "source": [
    "import sys\n",
    "import os\n",
    "from pathlib import Path\n",
    "\n",
    "notebook_path = Path(os.getcwd())\n",
    "repo_root = str(notebook_path.parent)\n",
    "if repo_root not in sys.path:\n",
    "    sys.path.append(repo_root)\n",
    "\n",
    "import openai_setup\n"
   ]
  },
  {
   "cell_type": "code",
   "execution_count": 13,
   "id": "d02b25be",
   "metadata": {},
   "outputs": [],
   "source": [
    "#openai_setup.config['key']"
   ]
  }
 ],
 "metadata": {
  "kernelspec": {
   "display_name": "talktor-env",
   "language": "python",
   "name": "python3"
  },
  "language_info": {
   "codemirror_mode": {
    "name": "ipython",
    "version": 3
   },
   "file_extension": ".py",
   "mimetype": "text/x-python",
   "name": "python",
   "nbconvert_exporter": "python",
   "pygments_lexer": "ipython3",
   "version": "3.12.11"
  }
 },
 "nbformat": 4,
 "nbformat_minor": 5
}
